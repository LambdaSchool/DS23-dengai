{
 "cells": [
  {
   "cell_type": "code",
   "execution_count": 39,
   "id": "spiritual-rebecca",
   "metadata": {},
   "outputs": [],
   "source": [
    "import pandas as pd\n",
    "from sklearn.metrics import mean_absolute_error\n",
    "from sklearn.ensemble import RandomForestRegressor\n",
    "from sklearn.impute import SimpleImputer\n",
    "from category_encoders import OneHotEncoder\n",
    "from sklearn.pipeline import make_pipeline\n",
    "import matplotlib.pyplot as plt"
   ]
  },
  {
   "cell_type": "markdown",
   "id": "structured-poker",
   "metadata": {},
   "source": [
    "# I. Wrangle"
   ]
  },
  {
   "cell_type": "code",
   "execution_count": 9,
   "id": "intellectual-configuration",
   "metadata": {},
   "outputs": [],
   "source": [
    "def wrangle(filepath):\n",
    "    X = pd.read_csv(filepath, \n",
    "                    parse_dates=['week_start_date'], \n",
    "                    index_col='week_start_date')\n",
    "    return X"
   ]
  },
  {
   "cell_type": "code",
   "execution_count": 17,
   "id": "gross-substitute",
   "metadata": {},
   "outputs": [],
   "source": [
    "X_train = wrangle('data/dengue_features_train.csv')\n",
    "y_train = pd.read_csv('data/dengue_labels_train.csv')['total_cases']\n",
    "X_test = wrangle('data/dengue_features_test.csv')"
   ]
  },
  {
   "cell_type": "code",
   "execution_count": 28,
   "id": "fiscal-petite",
   "metadata": {},
   "outputs": [
    {
     "name": "stdout",
     "output_type": "stream",
     "text": [
      "<class 'pandas.core.frame.DataFrame'>\n",
      "DatetimeIndex: 1456 entries, 1990-04-30 to 2010-06-25\n",
      "Data columns (total 23 columns):\n",
      " #   Column                                 Non-Null Count  Dtype  \n",
      "---  ------                                 --------------  -----  \n",
      " 0   city                                   1456 non-null   object \n",
      " 1   year                                   1456 non-null   int64  \n",
      " 2   weekofyear                             1456 non-null   int64  \n",
      " 3   ndvi_ne                                1262 non-null   float64\n",
      " 4   ndvi_nw                                1404 non-null   float64\n",
      " 5   ndvi_se                                1434 non-null   float64\n",
      " 6   ndvi_sw                                1434 non-null   float64\n",
      " 7   precipitation_amt_mm                   1443 non-null   float64\n",
      " 8   reanalysis_air_temp_k                  1446 non-null   float64\n",
      " 9   reanalysis_avg_temp_k                  1446 non-null   float64\n",
      " 10  reanalysis_dew_point_temp_k            1446 non-null   float64\n",
      " 11  reanalysis_max_air_temp_k              1446 non-null   float64\n",
      " 12  reanalysis_min_air_temp_k              1446 non-null   float64\n",
      " 13  reanalysis_precip_amt_kg_per_m2        1446 non-null   float64\n",
      " 14  reanalysis_relative_humidity_percent   1446 non-null   float64\n",
      " 15  reanalysis_sat_precip_amt_mm           1443 non-null   float64\n",
      " 16  reanalysis_specific_humidity_g_per_kg  1446 non-null   float64\n",
      " 17  reanalysis_tdtr_k                      1446 non-null   float64\n",
      " 18  station_avg_temp_c                     1413 non-null   float64\n",
      " 19  station_diur_temp_rng_c                1413 non-null   float64\n",
      " 20  station_max_temp_c                     1436 non-null   float64\n",
      " 21  station_min_temp_c                     1442 non-null   float64\n",
      " 22  station_precip_mm                      1434 non-null   float64\n",
      "dtypes: float64(20), int64(2), object(1)\n",
      "memory usage: 273.0+ KB\n"
     ]
    }
   ],
   "source": [
    "X_train.info()"
   ]
  },
  {
   "cell_type": "code",
   "execution_count": 29,
   "id": "executive-ferry",
   "metadata": {},
   "outputs": [
    {
     "data": {
      "text/plain": [
       "sj    936\n",
       "iq    520\n",
       "Name: city, dtype: int64"
      ]
     },
     "execution_count": 29,
     "metadata": {},
     "output_type": "execute_result"
    }
   ],
   "source": [
    "X_train['city'].value_counts()"
   ]
  },
  {
   "cell_type": "markdown",
   "id": "vocal-national",
   "metadata": {},
   "source": [
    "# II. Split the Data"
   ]
  },
  {
   "cell_type": "code",
   "execution_count": 19,
   "id": "coastal-huntington",
   "metadata": {},
   "outputs": [],
   "source": [
    "# We don't need to do any splitting here"
   ]
  },
  {
   "cell_type": "markdown",
   "id": "protected-married",
   "metadata": {},
   "source": [
    "# III. Baseline\n",
    "\n",
    "This is a *regresion* problem."
   ]
  },
  {
   "cell_type": "code",
   "execution_count": 26,
   "id": "engaged-possibility",
   "metadata": {},
   "outputs": [
    {
     "name": "stdout",
     "output_type": "stream",
     "text": [
      "Target mean: 24.67513736263736\n",
      "Baseline MAE: 23.003354818258664\n"
     ]
    }
   ],
   "source": [
    "print('Target mean:', y_train.mean())\n",
    "y_pred = [y_train.mean()] * len(y_train)\n",
    "print('Baseline MAE:', mean_absolute_error(y_train, y_pred))"
   ]
  },
  {
   "cell_type": "markdown",
   "id": "ahead-asset",
   "metadata": {},
   "source": [
    "# IV. Build Model"
   ]
  },
  {
   "cell_type": "code",
   "execution_count": 33,
   "id": "tracked-nickname",
   "metadata": {},
   "outputs": [
    {
     "name": "stderr",
     "output_type": "stream",
     "text": [
      "/Users/nicholascifuentes-goodbody/.local/share/virtualenvs/DS23-dengai-R3WthDLP/lib/python3.8/site-packages/category_encoders/utils.py:21: FutureWarning: is_categorical is deprecated and will be removed in a future version.  Use is_categorical_dtype instead\n",
      "  elif pd.api.types.is_categorical(cols):\n"
     ]
    }
   ],
   "source": [
    "model = make_pipeline(\n",
    "    OneHotEncoder(use_cat_names=True),\n",
    "    SimpleImputer(strategy='mean'),\n",
    "    RandomForestRegressor(random_state=42)\n",
    ")\n",
    "\n",
    "model.fit(X_train, y_train);"
   ]
  },
  {
   "cell_type": "markdown",
   "id": "governing-generation",
   "metadata": {},
   "source": [
    "# V. Check Metrics"
   ]
  },
  {
   "cell_type": "code",
   "execution_count": 34,
   "id": "fatal-sweden",
   "metadata": {},
   "outputs": [
    {
     "name": "stdout",
     "output_type": "stream",
     "text": [
      "Training MAE: 4.532184065934066\n"
     ]
    }
   ],
   "source": [
    "print('Training MAE:', mean_absolute_error(y_train, model.predict(X_train)))"
   ]
  },
  {
   "cell_type": "markdown",
   "id": "sacred-hawaii",
   "metadata": {},
   "source": [
    "# VI. Communicate Results"
   ]
  },
  {
   "cell_type": "code",
   "execution_count": 37,
   "id": "fourth-enough",
   "metadata": {},
   "outputs": [],
   "source": [
    "importances = model.named_steps['randomforestregressor'].feature_importances_\n",
    "features = model.named_steps['onehotencoder'].get_feature_names()"
   ]
  },
  {
   "cell_type": "code",
   "execution_count": 40,
   "id": "amino-worker",
   "metadata": {},
   "outputs": [
    {
     "data": {
      "text/plain": [
       "<AxesSubplot:>"
      ]
     },
     "execution_count": 40,
     "metadata": {},
     "output_type": "execute_result"
    },
    {
     "data": {
      "image/png": "[encoded data removed]",
      "text/plain": [
       "<Figure size 432x288 with 1 Axes>"
      ]
     },
     "metadata": {
      "needs_background": "light"
     },
     "output_type": "display_data"
    }
   ],
   "source": [
    "pd.Series(importances, index=features).sort_values().tail(10).plot(kind='barh')"
   ]
  },
  {
   "cell_type": "markdown",
   "id": "worst-settlement",
   "metadata": {},
   "source": [
    "# VII. Make Submission"
   ]
  },
  {
   "cell_type": "code",
   "execution_count": 41,
   "id": "dutch-variance",
   "metadata": {},
   "outputs": [],
   "source": [
    "y_pred = model.predict(X_test)"
   ]
  },
  {
   "cell_type": "code",
   "execution_count": 45,
   "id": "accepted-luxembourg",
   "metadata": {},
   "outputs": [
    {
     "name": "stderr",
     "output_type": "stream",
     "text": [
      "<ipython-input-45-19fc22a20296>:2: SettingWithCopyWarning: \n",
      "A value is trying to be set on a copy of a slice from a DataFrame.\n",
      "Try using .loc[row_indexer,col_indexer] = value instead\n",
      "\n",
      "See the caveats in the documentation: https://pandas.pydata.org/pandas-docs/stable/user_guide/indexing.html#returning-a-view-versus-a-copy\n",
      "  submission['total_cases'] = y_pred\n"
     ]
    },
    {
     "data": {
      "text/html": [
       "<div>\n",
       "<style scoped>\n",
       "    .dataframe tbody tr th:only-of-type {\n",
       "        vertical-align: middle;\n",
       "    }\n",
       "\n",
       "    .dataframe tbody tr th {\n",
       "        vertical-align: top;\n",
       "    }\n",
       "\n",
       "    .dataframe thead th {\n",
       "        text-align: right;\n",
       "    }\n",
       "</style>\n",
       "<table border=\"1\" class=\"dataframe\">\n",
       "  <thead>\n",
       "    <tr style=\"text-align: right;\">\n",
       "      <th></th>\n",
       "      <th>city</th>\n",
       "      <th>year</th>\n",
       "      <th>weekofyear</th>\n",
       "      <th>total_cases</th>\n",
       "    </tr>\n",
       "    <tr>\n",
       "      <th>week_start_date</th>\n",
       "      <th></th>\n",
       "      <th></th>\n",
       "      <th></th>\n",
       "      <th></th>\n",
       "    </tr>\n",
       "  </thead>\n",
       "  <tbody>\n",
       "    <tr>\n",
       "      <th>2008-04-29</th>\n",
       "      <td>sj</td>\n",
       "      <td>2008</td>\n",
       "      <td>18</td>\n",
       "      <td>4.81</td>\n",
       "    </tr>\n",
       "    <tr>\n",
       "      <th>2008-05-06</th>\n",
       "      <td>sj</td>\n",
       "      <td>2008</td>\n",
       "      <td>19</td>\n",
       "      <td>5.04</td>\n",
       "    </tr>\n",
       "    <tr>\n",
       "      <th>2008-05-13</th>\n",
       "      <td>sj</td>\n",
       "      <td>2008</td>\n",
       "      <td>20</td>\n",
       "      <td>5.41</td>\n",
       "    </tr>\n",
       "    <tr>\n",
       "      <th>2008-05-20</th>\n",
       "      <td>sj</td>\n",
       "      <td>2008</td>\n",
       "      <td>21</td>\n",
       "      <td>8.30</td>\n",
       "    </tr>\n",
       "    <tr>\n",
       "      <th>2008-05-27</th>\n",
       "      <td>sj</td>\n",
       "      <td>2008</td>\n",
       "      <td>22</td>\n",
       "      <td>9.00</td>\n",
       "    </tr>\n",
       "  </tbody>\n",
       "</table>\n",
       "</div>"
      ],
      "text/plain": [
       "                city  year  weekofyear  total_cases\n",
       "week_start_date                                    \n",
       "2008-04-29        sj  2008          18         4.81\n",
       "2008-05-06        sj  2008          19         5.04\n",
       "2008-05-13        sj  2008          20         5.41\n",
       "2008-05-20        sj  2008          21         8.30\n",
       "2008-05-27        sj  2008          22         9.00"
      ]
     },
     "execution_count": 45,
     "metadata": {},
     "output_type": "execute_result"
    }
   ],
   "source": [
    "submission = X_test[['city','year','weekofyear']]\n",
    "submission['total_cases'] = y_pred\n",
    "submission.head()"
   ]
  },
  {
   "cell_type": "code",
   "execution_count": null,
   "id": "beginning-prerequisite",
   "metadata": {},
   "outputs": [],
   "source": []
  }
 ],
 "metadata": {
  "kernelspec": {
   "display_name": "Python 3",
   "language": "python",
   "name": "python3"
  },
  "language_info": {
   "codemirror_mode": {
    "name": "ipython",
    "version": 3
   },
   "file_extension": ".py",
   "mimetype": "text/x-python",
   "name": "python",
   "nbconvert_exporter": "python",
   "pygments_lexer": "ipython3",
   "version": "3.8.5"
  }
 },
 "nbformat": 4,
 "nbformat_minor": 5
}
